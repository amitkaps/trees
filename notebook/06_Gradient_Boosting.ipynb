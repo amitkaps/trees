{
 "cells": [
  {
   "cell_type": "markdown",
   "metadata": {},
   "source": [
    "# Gradient Boosting Machines"
   ]
  },
  {
   "cell_type": "markdown",
   "metadata": {},
   "source": [
    "**Boosting** \n",
    "\n",
    "Combine weak learners to build a strong model\n",
    "\n",
    "How does this work?\n",
    "\n",
    "Build a base model:\n",
    "\n",
    "`Y = Model1(x) + Error1`\n",
    "\n",
    "Models are abstractions. There will be error between predictions and actual\n",
    "\n",
    "What is this error can be modeled ? Say:\n",
    "\n",
    "`Error1 = Model2(x) + Error2`\n",
    "\n",
    "If modeled right, this will improve the accuracy of the predictions.\n",
    "\n",
    "And we can continue:\n",
    "\n",
    "`Error2 = Model3(x) + Error3`\n",
    "\n",
    "Combining these three steps, we have:\n",
    "\n",
    "`Y = Model1(x) + Model2(x) + Model3(x) + Error3`\n",
    "\n",
    "And if we find weights(parameters) for these models?\n",
    "\n",
    "$$ Y = \\alpha Model1(x) + \\beta Model2(x) + \\gamma Model3(x) + Error3$$"
   ]
  },
  {
   "cell_type": "markdown",
   "metadata": {
    "collapsed": true
   },
   "source": [
    "### Intuition\n",
    "\n",
    "![](img/boost1.png)"
   ]
  },
  {
   "cell_type": "markdown",
   "metadata": {
    "collapsed": true
   },
   "source": [
    "### AdaBoost\n",
    "\n",
    "AdaBoost is done using decision stump"
   ]
  },
  {
   "cell_type": "markdown",
   "metadata": {},
   "source": [
    "**Exercise**\n",
    "\n",
    "Run `sklearn.ensemble.AdaBoostClassifier`"
   ]
  },
  {
   "cell_type": "code",
   "execution_count": null,
   "metadata": {
    "collapsed": true
   },
   "outputs": [],
   "source": []
  },
  {
   "cell_type": "code",
   "execution_count": null,
   "metadata": {
    "collapsed": true
   },
   "outputs": [],
   "source": []
  },
  {
   "cell_type": "markdown",
   "metadata": {},
   "source": [
    "`xgboost`"
   ]
  },
  {
   "cell_type": "code",
   "execution_count": 1,
   "metadata": {
    "collapsed": true
   },
   "outputs": [],
   "source": [
    "import xgboost as xgb\n",
    "import pandas as pd"
   ]
  },
  {
   "cell_type": "code",
   "execution_count": 2,
   "metadata": {
    "collapsed": false
   },
   "outputs": [],
   "source": [
    "#Read the data\n",
    "\n",
    "train = pd.read_csv(\"../data/train.csv\")\n",
    "test = pd.read_csv(\"../data/test.csv\")"
   ]
  },
  {
   "cell_type": "code",
   "execution_count": 3,
   "metadata": {
    "collapsed": true
   },
   "outputs": [],
   "source": [
    "#One hot encoding\n",
    "train = pd.get_dummies(train)\n",
    "test = pd.get_dummies(test)"
   ]
  },
  {
   "cell_type": "markdown",
   "metadata": {},
   "source": [
    "Details on the various parameters for xgboost can be found here:\n",
    "https://github.com/dmlc/xgboost/blob/master/doc/parameter.md\n",
    "\n",
    "\n",
    "  General Parameters\n",
    "------------------\n",
    "* booster [default=gbtree]\n",
    "  - which booster to use, can be gbtree, gblinear or dart. gbtree and dart use tree based model while gblinear uses linear function.\n",
    "* silent [default=0]\n",
    "  - 0 means printing running messages, 1 means silent mode.\n",
    "* nthread [default to maximum number of threads available if not set]\n",
    "  - number of parallel threads used to run xgboost\n",
    "* num_pbuffer [set automatically by xgboost, no need to be set by user]\n",
    "  - size of prediction buffer, normally set to number of training instances. The buffers are used to save the prediction results of last boosting step.\n",
    "* num_feature [set automatically by xgboost, no need to be set by user]\n",
    "  - feature dimension used in boosting, set to maximum dimension of the feature\n",
    "\n",
    "Parameters for Tree Booster\n",
    "---------------------------\n",
    "* eta [default=0.3]\n",
    "  - step size shrinkage used in update to prevents overfitting. After each boosting step, we can directly get the weights of new features. and eta actually shrinks the feature weights to make the boosting process more conservative.\n",
    "  - range: [0,1]\n",
    "* gamma [default=0]\n",
    "  - minimum loss reduction required to make a further partition on a leaf node of the tree. The larger, the more conservative the algorithm will be.\n",
    "  - range: [0,∞]\n",
    "* max_depth [default=6]\n",
    "  - maximum depth of a tree, increase this value will make the model more complex / likely to be overfitting.\n",
    "  - range: [1,∞]\n",
    "* min_child_weight [default=1]\n",
    "  - minimum sum of instance weight (hessian) needed in a child. If the tree partition step results in a leaf node with the sum of instance weight less than min_child_weight, then the building process will give up further partitioning. In linear regression mode, this simply corresponds to minimum number of instances needed to be in each node. The larger, the more conservative the algorithm will be.\n",
    "  - range: [0,∞]\n",
    "* max_delta_step [default=0]\n",
    "  - Maximum delta step we allow each tree's weight estimation to be. If the value is set to 0, it means there is no constraint. If it is set to a positive value, it can help making the update step more conservative. Usually this parameter is not needed, but it might help in logistic regression when class is extremely imbalanced. Set it to value of 1-10 might help control the update\n",
    "  - range: [0,∞]\n",
    "* subsample [default=1]\n",
    "  - subsample ratio of the training instance. Setting it to 0.5 means that XGBoost randomly collected half of the data instances to grow trees and this will prevent overfitting.\n",
    "  - range: (0,1]\n",
    "* colsample_bytree [default=1]\n",
    "  - subsample ratio of columns when constructing each tree.\n",
    "  - range: (0,1]\n",
    "* colsample_bylevel [default=1]\n",
    "  - subsample ratio of columns for each split, in each level.\n",
    "  - range: (0,1]\n",
    "* lambda [default=1]\n",
    "  - L2 regularization term on weights, increase this value will make model more conservative.\n",
    "* alpha [default=0]\n",
    "  - L1 regularization term on weights, increase this value will make model more conservative.\n",
    "* tree_method, string [default='auto']\n",
    "  - The tree construction algorithm used in XGBoost(see description in the [reference paper](http://arxiv.org/abs/1603.02754))\n",
    "  - Distributed and external memory version only support approximate algorithm.\n",
    "  - Choices: {'auto', 'exact', 'approx'}\n",
    "    - 'auto': Use heuristic to choose faster one.\n",
    "      - For small to medium dataset, exact greedy will be used.\n",
    "      - For very large-dataset, approximate algorithm will be chosen.\n",
    "      - Because old behavior is always use exact greedy in single machine,\n",
    "        user will get a message when approximate algorithm is chosen to notify this choice.\n",
    "    - 'exact': Exact greedy algorithm.\n",
    "    - 'approx': Approximate greedy algorithm using sketching and histogram.\n",
    "* sketch_eps, [default=0.03]\n",
    "  - This is only used for approximate greedy algorithm.\n",
    "  - This roughly translated into ```O(1 / sketch_eps)``` number of bins.\n",
    "    Compared to directly select number of bins, this comes with theoretical guarantee with sketch accuracy.\n",
    "  - Usually user does not have to tune this.\n",
    "    but consider setting to a lower number for more accurate enumeration.\n",
    "  - range: (0, 1)\n",
    "* scale_pos_weight, [default=1]\n",
    "  - Control the balance of positive and negative weights, useful for unbalanced classes. A typical value to consider: sum(negative  cases) / sum(positive cases) See [Parameters Tuning](how_to/param_tuning.md) for more discussion. Also see Higgs Kaggle competition demo for examples: [R](../demo/kaggle-higgs/higgs-train.R ), [py1](../demo/kaggle-higgs/higgs-numpy.py ), [py2](../demo/kaggle-higgs/higgs-cv.py ), [py3](../demo/guide-python/cross_validation.py)\n",
    "* updater_seq, [default=\"grow_colmaker,prune\"]\n",
    "  - A comma separated string mentioning tThe sequence of Tree updaters that should be run. A tree updater is a pluggable operation performed on the tree at every step using the gradient information. Tree updaters can be registered using the plugin system provided.\n",
    "\n",
    "\n",
    "Learning Task Parameters\n",
    "------------------------\n",
    "Specify the learning task and the corresponding learning objective. The objective options are below:\n",
    "* objective [ default=reg:linear ]\n",
    " - \"reg:linear\" --linear regression\n",
    " - \"reg:logistic\" --logistic regression\n",
    " - \"binary:logistic\" --logistic regression for binary classification, output probability\n",
    " - \"binary:logitraw\" --logistic regression for binary classification, output score before logistic transformation\n",
    " - \"count:poisson\" --poisson regression for count data, output mean of poisson distribution\n",
    "   - max_delta_step is set to 0.7 by default in poisson regression (used to safeguard optimization)\n",
    " - \"multi:softmax\" --set XGBoost to do multiclass classification using the softmax objective, you also need to set num_class(number of classes)\n",
    " - \"multi:softprob\" --same as softmax, but output a vector of ndata * nclass, which can be further reshaped to ndata, nclass matrix. The result contains predicted probability of each data point belonging to each class.\n",
    " - \"rank:pairwise\" --set XGBoost to do ranking task by minimizing the pairwise loss\n",
    " - \"reg:gamma\" --gamma regression for severity data, output mean of gamma distribution\n",
    " - \"reg:tweedie\" --tweedie regression for insurance data\n",
    "   - tweedie_variance_power is set to 1.5 by default in tweedie regression and must be in the range [1, 2)\n",
    "* base_score [ default=0.5 ]\n",
    "  - the initial prediction score of all instances, global bias\n",
    "  - for sufficient number of iterations, changing this value will not have too much effect.\n",
    "* eval_metric [ default according to objective ]\n",
    "  - evaluation metrics for validation data, a default metric will be assigned according to objective (rmse for regression, and error for classification, mean average precision for ranking )\n",
    "  - User can add multiple evaluation metrics, for python user, remember to pass the metrics in as list of parameters pairs instead of map, so that latter 'eval_metric' won't override previous one\n",
    "  - The choices are listed below:\n",
    "  - \"rmse\": [root mean square error](http://en.wikipedia.org/wiki/Root_mean_square_error)\n",
    "  - \"mae\": [mean absolute error](https://en.wikipedia.org/wiki/Mean_absolute_error)\n",
    "  - \"logloss\": negative [log-likelihood](http://en.wikipedia.org/wiki/Log-likelihood)\n",
    "  - \"error\": Binary classification error rate. It is calculated as #(wrong cases)/#(all cases). For the predictions, the evaluation will regard the instances with prediction value larger than 0.5 as positive instances, and the others as negative instances.\n",
    "  - \"merror\": Multiclass classification error rate. It is calculated as #(wrong cases)/#(all cases).\n",
    "  - \"mlogloss\": [Multiclass logloss](https://www.kaggle.com/wiki/MultiClassLogLoss)\n",
    "  - \"auc\": [Area under the curve](http://en.wikipedia.org/wiki/Receiver_operating_characteristic#Area_under_curve) for ranking evaluation.\n",
    "  - \"ndcg\":[Normalized Discounted Cumulative Gain](http://en.wikipedia.org/wiki/NDCG)\n",
    "  - \"map\":[Mean average precision](http://en.wikipedia.org/wiki/Mean_average_precision#Mean_average_precision)\n",
    "  - \"ndcg@n\",\"map@n\": n can be assigned as an integer to cut off the top positions in the lists for evaluation.\n",
    "  - \"ndcg-\",\"map-\",\"ndcg@n-\",\"map@n-\": In XGBoost, NDCG and MAP will evaluate the score of a list without any positive samples as 1. By adding \"-\" in the evaluation metric XGBoost will evaluate these score as 0 to be consistent under some conditions.\n",
    "training repeatedly\n",
    "  - \"gamma-deviance\": [residual deviance for gamma regression]\n",
    "* seed [ default=0 ]\n",
    " - random number seed.\n",
    "\n",
    "\n"
   ]
  },
  {
   "cell_type": "code",
   "execution_count": 4,
   "metadata": {
    "collapsed": true
   },
   "outputs": [],
   "source": [
    "#Parameters\n",
    "\n",
    "params = {}\n",
    "params[\"min_child_weight\"] = 3\n",
    "params[\"subsample\"] = 0.7\n",
    "params[\"colsample_bytree\"] = 0.7\n",
    "params[\"scale_pos_weight\"] = 1\n",
    "params[\"silent\"] = 0\n",
    "params[\"max_depth\"] = 4\n",
    "params[\"nthread\"] = 6\n",
    "params[\"gamma\"] = 1\n",
    "params[\"objective\"] = \"binary:logistic\"\n",
    "params[\"eta\"] = 0.005\n",
    "params[\"base_score\"] = 0.1\n",
    "params[\"eval_metric\"] = \"auc\"\n",
    "params[\"seed\"] = 123\n",
    "\n",
    "plst = list(params.items())\n",
    "num_rounds = 40"
   ]
  },
  {
   "cell_type": "code",
   "execution_count": 5,
   "metadata": {
    "collapsed": false
   },
   "outputs": [],
   "source": [
    "xgtrain = xgb.DMatrix(train.iloc[:,:51], label=train.iloc[:,51])\n",
    "watchlist = [(xgtrain, 'train')]"
   ]
  },
  {
   "cell_type": "code",
   "execution_count": 6,
   "metadata": {
    "collapsed": true
   },
   "outputs": [],
   "source": [
    "model_xgboost = xgb.train(plst, xgtrain, num_rounds)"
   ]
  },
  {
   "cell_type": "code",
   "execution_count": 7,
   "metadata": {
    "collapsed": true
   },
   "outputs": [],
   "source": [
    "%matplotlib inline"
   ]
  },
  {
   "cell_type": "code",
   "execution_count": 8,
   "metadata": {
    "collapsed": false
   },
   "outputs": [
    {
     "data": {
      "text/plain": [
       "<matplotlib.axes._subplots.AxesSubplot at 0x11827a5c0>"
      ]
     },
     "execution_count": 8,
     "metadata": {},
     "output_type": "execute_result"
    },
    {
     "data": {
      "image/png": "[encoded data removed]",
      "text/plain": [
       "<matplotlib.figure.Figure at 0x116dbe4a8>"
      ]
     },
     "metadata": {},
     "output_type": "display_data"
    }
   ],
   "source": [
    "#Variable Importance Plot\n",
    "xgb.plot_importance(model_xgboost)"
   ]
  },
  {
   "cell_type": "code",
   "execution_count": null,
   "metadata": {
    "collapsed": false,
    "scrolled": true
   },
   "outputs": [],
   "source": [
    "xgb.plot_tree(model_xgboost, num_trees=2)"
   ]
  },
  {
   "cell_type": "code",
   "execution_count": null,
   "metadata": {
    "collapsed": true
   },
   "outputs": [],
   "source": []
  },
  {
   "cell_type": "code",
   "execution_count": 10,
   "metadata": {
    "collapsed": false
   },
   "outputs": [],
   "source": [
    "# Prediction using xgboost"
   ]
  },
  {
   "cell_type": "code",
   "execution_count": null,
   "metadata": {
    "collapsed": true
   },
   "outputs": [],
   "source": [
    "xgb_predict = model_xgboost.predict(xgb.DMatrix(test.iloc[:,:51]))"
   ]
  },
  {
   "cell_type": "code",
   "execution_count": null,
   "metadata": {
    "collapsed": true
   },
   "outputs": [],
   "source": []
  },
  {
   "cell_type": "markdown",
   "metadata": {},
   "source": [
    "**Exercise**"
   ]
  },
  {
   "cell_type": "markdown",
   "metadata": {},
   "source": [
    "1. Run the model for 200 trees  \n",
    "2. Using that model, predict and observe the AUC on test\n",
    "3. Now, predict only using the first 120 trees from that model. *Hint* : Use `ntree_limit` option  \n",
    "4. Use `xgboost's` cross-validation method. Sample code:\n",
    "\n",
    "```xgb.cv(parameters, train_matrix, num_round, nfold,\n",
    "       metrics={'error'}, seed = 0,\n",
    "       callbacks=[xgb.callback.print_evaluation(show_stdv=True)])```\n",
    "\n"
   ]
  },
  {
   "cell_type": "code",
   "execution_count": null,
   "metadata": {
    "collapsed": false
   },
   "outputs": [],
   "source": []
  },
  {
   "cell_type": "markdown",
   "metadata": {},
   "source": [
    "**Early Stopping**\n",
    "\n",
    "Source: [xgboost docs](http://xgboost.readthedocs.io/en/latest/python/python_intro.html)  \n",
    "\n",
    "If you have a validation set, you can use early stopping to find the optimal number of boosting rounds.\n",
    "\n",
    "`train(..., evals=evals, early_stopping_rounds=10)`\n",
    "\n",
    "The model will train until the validation score stops improving. Validation error needs to decrease at least every early_stopping_rounds to continue training.\n",
    "\n",
    "If early stopping occurs, the model will have three additional fields: `bst.best_score, bst.best_iteration and bst.best_ntree_limit`. Note that train() will return a model from the last iteration, not the best one.\n",
    "\n",
    "This works with both metrics to minimize (RMSE, log loss, etc.) and to maximize (MAP, NDCG, AUC). Note that if you specify more than one evaluation metric the last one in param['eval_metric'] is used for early stopping."
   ]
  },
  {
   "cell_type": "code",
   "execution_count": null,
   "metadata": {
    "collapsed": true
   },
   "outputs": [],
   "source": []
  },
  {
   "cell_type": "code",
   "execution_count": null,
   "metadata": {
    "collapsed": true
   },
   "outputs": [],
   "source": []
  },
  {
   "cell_type": "markdown",
   "metadata": {},
   "source": [
    "### References\n",
    "\n",
    "- https://www.analyticsvidhya.com/blog/2015/09/complete-guide-boosting-methods/\n",
    "- https://www.analyticsvidhya.com/blog/2015/05/boosting-algorithms-simplified/\n",
    "- https://xgboost.readthedocs.io/\n"
   ]
  },
  {
   "cell_type": "code",
   "execution_count": null,
   "metadata": {
    "collapsed": true
   },
   "outputs": [],
   "source": []
  }
 ],
 "metadata": {
  "anaconda-cloud": {},
  "kernelspec": {
   "display_name": "Python [conda root]",
   "language": "python",
   "name": "conda-root-py"
  },
  "language_info": {
   "codemirror_mode": {
    "name": "ipython",
    "version": 3
   },
   "file_extension": ".py",
   "mimetype": "text/x-python",
   "name": "python",
   "nbconvert_exporter": "python",
   "pygments_lexer": "ipython3",
   "version": "3.5.2"
  }
 },
 "nbformat": 4,
 "nbformat_minor": 1
}
