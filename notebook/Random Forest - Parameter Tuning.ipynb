{
 "cells": [
  {
   "cell_type": "markdown",
   "metadata": {},
   "source": [
    "# Introduction to parameter tuning\n",
    "\n",
    "**Hyper-parameters**\n",
    "\n",
    "A machine learning model is a mathematical formula with a number of parameters that are learnt from the data. That is the crux of machine learning: fitting a model to the data.\n",
    "\n",
    "However, there is another kind of parameters that cannot be directly learned from the regular training process. These parameters express “higher-level” properties of the model such as its complexity or how fast it should learn. They are called hyperparameters. Hyperparameters are usually fixed before the actual training process begins.\n",
    "\n",
    "So, how are hyperparameters decided?\n",
    "\n",
    "Broadly speaking, this is done by setting different values for those hyperparameters, training different models, and deciding which ones work best by testing them\n",
    "\n",
    "So, to summarize. Hyperparameters:\n",
    "\n",
    "- Define higher level concepts about the model such as complexity, or capacity to learn.\n",
    "- Cannot be learned directly from the data in the standard model training process and need to be predefined.\n",
    "- Can be decided by setting different values, training different models, and choosing the values that test better\n",
    "\n",
    "Some examples of hyperparameters:\n",
    "\n",
    "- Number of leaves or depth of a tree\n",
    "- Number of latent factors in a matrix factorization\n",
    "- Learning rate (in many models)\n",
    "- Number of hidden layers in a deep neural network\n",
    "- Number of clusters in a k-means clustering\n",
    "\n",
    "source: [Quora](https://www.quora.com/What-are-hyperparameters-in-machine-learning)\n"
   ]
  },
  {
   "cell_type": "code",
   "execution_count": 1,
   "metadata": {
    "collapsed": true
   },
   "outputs": [],
   "source": [
    "import pandas as pd\n",
    "import numpy as np\n",
    "import matplotlib.pyplot as plt\n",
    "%matplotlib inline\n",
    "plt.style.use('fivethirtyeight')"
   ]
  },
  {
   "cell_type": "code",
   "execution_count": null,
   "metadata": {
    "collapsed": true
   },
   "outputs": [],
   "source": [
    "#Read the data "
   ]
  },
  {
   "cell_type": "markdown",
   "metadata": {},
   "source": [
    "**Exercise**"
   ]
  },
  {
   "cell_type": "code",
   "execution_count": 2,
   "metadata": {
    "collapsed": true
   },
   "outputs": [],
   "source": [
    "#load the train data\n"
   ]
  },
  {
   "cell_type": "code",
   "execution_count": 18,
   "metadata": {
    "collapsed": true
   },
   "outputs": [],
   "source": [
    "#load the test data\n"
   ]
  },
  {
   "cell_type": "markdown",
   "metadata": {},
   "source": [
    "**Basic checks**\n",
    "\n",
    "Check if the columns are the same in train and test.\n",
    "\n",
    "What else will you check?  [**Discuss**]"
   ]
  },
  {
   "cell_type": "code",
   "execution_count": 19,
   "metadata": {
    "collapsed": false
   },
   "outputs": [
    {
     "data": {
      "text/plain": [
       "Index(['age', 'job', 'marital', 'education', 'default', 'balance', 'housing',\n",
       "       'loan', 'contact', 'day', 'month', 'duration', 'campaign', 'pdays',\n",
       "       'previous', 'poutcome', 'deposit'],\n",
       "      dtype='object')"
      ]
     },
     "execution_count": 19,
     "metadata": {},
     "output_type": "execute_result"
    }
   ],
   "source": [
    "train.columns"
   ]
  },
  {
   "cell_type": "code",
   "execution_count": 20,
   "metadata": {
    "collapsed": false
   },
   "outputs": [
    {
     "data": {
      "text/plain": [
       "Index(['age', 'job', 'marital', 'education', 'default', 'balance', 'housing',\n",
       "       'loan', 'contact', 'day', 'month', 'duration', 'campaign', 'pdays',\n",
       "       'previous', 'poutcome', 'deposit'],\n",
       "      dtype='object')"
      ]
     },
     "execution_count": 20,
     "metadata": {},
     "output_type": "execute_result"
    }
   ],
   "source": [
    "test.columns"
   ]
  },
  {
   "cell_type": "code",
   "execution_count": 21,
   "metadata": {
    "collapsed": false
   },
   "outputs": [
    {
     "name": "stdout",
     "output_type": "stream",
     "text": [
      "(35211, 17) (10000, 17)\n"
     ]
    }
   ],
   "source": [
    "print(train.shape, test.shape)"
   ]
  },
  {
   "cell_type": "code",
   "execution_count": 24,
   "metadata": {
    "collapsed": false
   },
   "outputs": [
    {
     "name": "stdout",
     "output_type": "stream",
     "text": [
      "train\n",
      "age           int64\n",
      "job          object\n",
      "marital      object\n",
      "education    object\n",
      "default      object\n",
      "balance       int64\n",
      "housing      object\n",
      "loan         object\n",
      "contact      object\n",
      "day           int64\n",
      "month        object\n",
      "duration      int64\n",
      "campaign      int64\n",
      "pdays         int64\n",
      "previous      int64\n",
      "poutcome     object\n",
      "deposit      object\n",
      "dtype: object\n",
      "\n",
      "test\n",
      "age           int64\n",
      "job          object\n",
      "marital      object\n",
      "education    object\n",
      "default      object\n",
      "balance       int64\n",
      "housing      object\n",
      "loan         object\n",
      "contact      object\n",
      "day           int64\n",
      "month        object\n",
      "duration      int64\n",
      "campaign      int64\n",
      "pdays         int64\n",
      "previous      int64\n",
      "poutcome     object\n",
      "deposit      object\n",
      "dtype: object\n"
     ]
    }
   ],
   "source": [
    "print(\"train\")\n",
    "print(train.dtypes)\n",
    "print()\n",
    "print(\"test\")\n",
    "print(test.dtypes)"
   ]
  },
  {
   "cell_type": "markdown",
   "metadata": {},
   "source": [
    "The categorical data should be encoded.\n",
    "\n",
    "We saw LabelEncoder earlier. Now, we will use one-hot encoding"
   ]
  },
  {
   "cell_type": "markdown",
   "metadata": {},
   "source": [
    "### One-hot encoding\n",
    "\n",
    "![](img/onehot.jpg)"
   ]
  },
  {
   "cell_type": "code",
   "execution_count": 6,
   "metadata": {
    "collapsed": true
   },
   "outputs": [],
   "source": [
    "train_updated = pd.get_dummies(train)"
   ]
  },
  {
   "cell_type": "code",
   "execution_count": 7,
   "metadata": {
    "collapsed": false
   },
   "outputs": [
    {
     "data": {
      "text/plain": [
       "(35211, 17)"
      ]
     },
     "execution_count": 7,
     "metadata": {},
     "output_type": "execute_result"
    }
   ],
   "source": [
    "train.shape"
   ]
  },
  {
   "cell_type": "code",
   "execution_count": 8,
   "metadata": {
    "collapsed": false
   },
   "outputs": [
    {
     "data": {
      "text/plain": [
       "(35211, 53)"
      ]
     },
     "execution_count": 8,
     "metadata": {},
     "output_type": "execute_result"
    }
   ],
   "source": [
    "train_updated.shape"
   ]
  },
  {
   "cell_type": "code",
   "execution_count": 28,
   "metadata": {
    "collapsed": false
   },
   "outputs": [
    {
     "data": {
      "text/plain": [
       "age                      58\n",
       "balance                2143\n",
       "day                       5\n",
       "duration                261\n",
       "campaign                  1\n",
       "pdays                    -1\n",
       "previous                  0\n",
       "job_admin.                0\n",
       "job_blue-collar           0\n",
       "job_entrepreneur          0\n",
       "job_housemaid             0\n",
       "job_management            1\n",
       "job_retired               0\n",
       "job_self-employed         0\n",
       "job_services              0\n",
       "job_student               0\n",
       "job_technician            0\n",
       "job_unemployed            0\n",
       "job_unknown               0\n",
       "marital_divorced          0\n",
       "marital_married           1\n",
       "marital_single            0\n",
       "education_primary         0\n",
       "education_secondary       0\n",
       "education_tertiary        1\n",
       "education_unknown         0\n",
       "default_no                1\n",
       "default_yes               0\n",
       "housing_no                0\n",
       "housing_yes               1\n",
       "loan_no                   1\n",
       "loan_yes                  0\n",
       "contact_cellular          0\n",
       "contact_telephone         0\n",
       "contact_unknown           1\n",
       "month_apr                 0\n",
       "month_aug                 0\n",
       "month_dec                 0\n",
       "month_feb                 0\n",
       "month_jan                 0\n",
       "month_jul                 0\n",
       "month_jun                 0\n",
       "month_mar                 0\n",
       "month_may                 1\n",
       "month_nov                 0\n",
       "month_oct                 0\n",
       "month_sep                 0\n",
       "poutcome_failure          0\n",
       "poutcome_other            0\n",
       "poutcome_success          0\n",
       "poutcome_unknown          1\n",
       "deposit_no                1\n",
       "deposit_yes               0\n",
       "Name: 0, dtype: int64"
      ]
     },
     "execution_count": 28,
     "metadata": {},
     "output_type": "execute_result"
    }
   ],
   "source": [
    "#print the first record\n",
    "train_updated.iloc[0]"
   ]
  },
  {
   "cell_type": "markdown",
   "metadata": {},
   "source": [
    "**Exercise**\n",
    "Apply one-hot encoding to test dataset and store in test_updated"
   ]
  },
  {
   "cell_type": "code",
   "execution_count": null,
   "metadata": {
    "collapsed": true
   },
   "outputs": [],
   "source": [
    "#Code here"
   ]
  },
  {
   "cell_type": "code",
   "execution_count": null,
   "metadata": {
    "collapsed": true
   },
   "outputs": [],
   "source": []
  },
  {
   "cell_type": "code",
   "execution_count": 26,
   "metadata": {
    "collapsed": false
   },
   "outputs": [
    {
     "name": "stdout",
     "output_type": "stream",
     "text": [
      "(10000, 17) (10000, 53)\n"
     ]
    }
   ],
   "source": [
    "print(test.shape, test_updated.shape)"
   ]
  },
  {
   "cell_type": "code",
   "execution_count": 27,
   "metadata": {
    "collapsed": false
   },
   "outputs": [
    {
     "data": {
      "text/plain": [
       "age                      58\n",
       "balance                5445\n",
       "day                      14\n",
       "duration                391\n",
       "campaign                  1\n",
       "pdays                    -1\n",
       "previous                  0\n",
       "job_admin.                0\n",
       "job_blue-collar           1\n",
       "job_entrepreneur          0\n",
       "job_housemaid             0\n",
       "job_management            0\n",
       "job_retired               0\n",
       "job_self-employed         0\n",
       "job_services              0\n",
       "job_student               0\n",
       "job_technician            0\n",
       "job_unemployed            0\n",
       "job_unknown               0\n",
       "marital_divorced          0\n",
       "marital_married           1\n",
       "marital_single            0\n",
       "education_primary         1\n",
       "education_secondary       0\n",
       "education_tertiary        0\n",
       "education_unknown         0\n",
       "default_no                1\n",
       "default_yes               0\n",
       "housing_no                0\n",
       "housing_yes               1\n",
       "loan_no                   1\n",
       "loan_yes                  0\n",
       "contact_cellular          1\n",
       "contact_telephone         0\n",
       "contact_unknown           0\n",
       "month_apr                 1\n",
       "month_aug                 0\n",
       "month_dec                 0\n",
       "month_feb                 0\n",
       "month_jan                 0\n",
       "month_jul                 0\n",
       "month_jun                 0\n",
       "month_mar                 0\n",
       "month_may                 0\n",
       "month_nov                 0\n",
       "month_oct                 0\n",
       "month_sep                 0\n",
       "poutcome_failure          0\n",
       "poutcome_other            0\n",
       "poutcome_success          0\n",
       "poutcome_unknown          1\n",
       "deposit_no                1\n",
       "deposit_yes               0\n",
       "Name: 1, dtype: int64"
      ]
     },
     "execution_count": 27,
     "metadata": {},
     "output_type": "execute_result"
    }
   ],
   "source": [
    "#print the first record\n",
    "test_updated.iloc[1]"
   ]
  },
  {
   "cell_type": "code",
   "execution_count": 10,
   "metadata": {
    "collapsed": true
   },
   "outputs": [],
   "source": [
    "#Split this into train and label\n",
    "\n",
    "train_1 = train_updated.iloc[:,:51]"
   ]
  },
  {
   "cell_type": "code",
   "execution_count": 29,
   "metadata": {
    "collapsed": false
   },
   "outputs": [
    {
     "data": {
      "text/plain": [
       "age                      58\n",
       "balance                2143\n",
       "day                       5\n",
       "duration                261\n",
       "campaign                  1\n",
       "pdays                    -1\n",
       "previous                  0\n",
       "job_admin.                0\n",
       "job_blue-collar           0\n",
       "job_entrepreneur          0\n",
       "job_housemaid             0\n",
       "job_management            1\n",
       "job_retired               0\n",
       "job_self-employed         0\n",
       "job_services              0\n",
       "job_student               0\n",
       "job_technician            0\n",
       "job_unemployed            0\n",
       "job_unknown               0\n",
       "marital_divorced          0\n",
       "marital_married           1\n",
       "marital_single            0\n",
       "education_primary         0\n",
       "education_secondary       0\n",
       "education_tertiary        1\n",
       "education_unknown         0\n",
       "default_no                1\n",
       "default_yes               0\n",
       "housing_no                0\n",
       "housing_yes               1\n",
       "loan_no                   1\n",
       "loan_yes                  0\n",
       "contact_cellular          0\n",
       "contact_telephone         0\n",
       "contact_unknown           1\n",
       "month_apr                 0\n",
       "month_aug                 0\n",
       "month_dec                 0\n",
       "month_feb                 0\n",
       "month_jan                 0\n",
       "month_jul                 0\n",
       "month_jun                 0\n",
       "month_mar                 0\n",
       "month_may                 1\n",
       "month_nov                 0\n",
       "month_oct                 0\n",
       "month_sep                 0\n",
       "poutcome_failure          0\n",
       "poutcome_other            0\n",
       "poutcome_success          0\n",
       "poutcome_unknown          1\n",
       "Name: 0, dtype: int64"
      ]
     },
     "execution_count": 29,
     "metadata": {},
     "output_type": "execute_result"
    }
   ],
   "source": [
    "train_1.iloc[0]"
   ]
  },
  {
   "cell_type": "code",
   "execution_count": 12,
   "metadata": {
    "collapsed": true
   },
   "outputs": [],
   "source": [
    "#Store label as a separate variable\n",
    "label = train_updated.iloc[:,51]"
   ]
  },
  {
   "cell_type": "code",
   "execution_count": 13,
   "metadata": {
    "collapsed": false
   },
   "outputs": [
    {
     "name": "stdout",
     "output_type": "stream",
     "text": [
      "(35211, 51) (35211,)\n"
     ]
    }
   ],
   "source": [
    "print(train_1.shape, label.shape)"
   ]
  },
  {
   "cell_type": "code",
   "execution_count": 14,
   "metadata": {
    "collapsed": true
   },
   "outputs": [],
   "source": [
    "#Let's build random forest model"
   ]
  },
  {
   "cell_type": "code",
   "execution_count": 15,
   "metadata": {
    "collapsed": true
   },
   "outputs": [],
   "source": [
    "from sklearn.ensemble import RandomForestClassifier"
   ]
  },
  {
   "cell_type": "code",
   "execution_count": null,
   "metadata": {
    "collapsed": true
   },
   "outputs": [],
   "source": [
    "model_rf = RandomForestClassifier(n_estimators=100,\n",
    "                                 criterion=\"gini\",\n",
    "                                 max_depth=4,\n",
    "                                 min_samples_split=1,\n",
    "                                 min_samples_leaf= 1,\n",
    "                                 oob_score=True,\n",
    "                                 n_jobs=-1\n",
    "                                 )"
   ]
  },
  {
   "cell_type": "code",
   "execution_count": null,
   "metadata": {
    "collapsed": false
   },
   "outputs": [],
   "source": [
    "model_rf.fit(train_1, label)"
   ]
  },
  {
   "cell_type": "code",
   "execution_count": null,
   "metadata": {
    "collapsed": false
   },
   "outputs": [],
   "source": [
    "model_rf.oob_score_"
   ]
  },
  {
   "cell_type": "markdown",
   "metadata": {},
   "source": [
    "Let's do cross validation and see what the generalization error is"
   ]
  },
  {
   "cell_type": "markdown",
   "metadata": {},
   "source": [
    "### Cross-validation"
   ]
  },
  {
   "cell_type": "code",
   "execution_count": 32,
   "metadata": {
    "collapsed": true
   },
   "outputs": [],
   "source": [
    "from sklearn.model_selection import cross_val_score\n",
    "from sklearn.metrics import roc_curve, auc"
   ]
  },
  {
   "cell_type": "code",
   "execution_count": null,
   "metadata": {
    "collapsed": true
   },
   "outputs": [],
   "source": [
    "model_rf = RandomForestClassifier(n_estimators=100,\n",
    "                                 criterion=\"gini\",\n",
    "                                 max_depth=3,\n",
    "                                 min_samples_split=1,\n",
    "                                 min_samples_leaf= 1,\n",
    "                                 oob_score=True,\n",
    "                                 n_jobs=-1\n",
    "                                 )"
   ]
  },
  {
   "cell_type": "code",
   "execution_count": null,
   "metadata": {
    "collapsed": false
   },
   "outputs": [],
   "source": [
    "%%time\n",
    "\n",
    "#Or use %%timeit -n1 -r1 to time the cell\n",
    "\n",
    "cross_val_score_rf = cross_val_score(model_rf, \n",
    "                                     train_1, \n",
    "                                     label, scoring=\"roc_auc\",\n",
    "                                     cv=5,\n",
    "                                     n_jobs=-1\n",
    "                                    )"
   ]
  },
  {
   "cell_type": "code",
   "execution_count": null,
   "metadata": {
    "collapsed": false
   },
   "outputs": [],
   "source": [
    "cross_val_score_rf"
   ]
  },
  {
   "cell_type": "markdown",
   "metadata": {},
   "source": [
    "**Exercise**"
   ]
  },
  {
   "cell_type": "code",
   "execution_count": null,
   "metadata": {
    "collapsed": false
   },
   "outputs": [],
   "source": [
    "#What is the average cross validation score?\n"
   ]
  },
  {
   "cell_type": "markdown",
   "metadata": {},
   "source": [
    "#### grid-search"
   ]
  },
  {
   "cell_type": "markdown",
   "metadata": {},
   "source": [
    "The above was for some arbitrary chosen parameter value.\n",
    "\n",
    "How do we run the model on various choices of hyper-parameters?\n"
   ]
  },
  {
   "cell_type": "code",
   "execution_count": 16,
   "metadata": {
    "collapsed": true
   },
   "outputs": [],
   "source": [
    "from sklearn.model_selection import GridSearchCV\n",
    "from sklearn.metrics import classification_report"
   ]
  },
  {
   "cell_type": "code",
   "execution_count": 34,
   "metadata": {
    "collapsed": false
   },
   "outputs": [
    {
     "name": "stdout",
     "output_type": "stream",
     "text": [
      "# Tuning hyper-parameters for roc_auc\n",
      "\n",
      "Best parameters set found on development set:\n",
      "\n",
      "{'max_depth': 3, 'n_estimators': 50}\n",
      "\n",
      "Grid scores on development set:\n",
      "\n",
      "0.644 (+/-0.424) for {'max_depth': 3, 'n_estimators': 50}\n",
      "0.631 (+/-0.411) for {'max_depth': 3, 'n_estimators': 100}\n",
      "0.622 (+/-0.398) for {'max_depth': 4, 'n_estimators': 50}\n",
      "0.641 (+/-0.363) for {'max_depth': 4, 'n_estimators': 100}\n",
      "\n",
      "Detailed classification report:\n",
      "\n",
      "The model is trained on the full development set.\n",
      "The scores are computed on the full evaluation set.\n",
      "\n",
      "AUC: 0.504958329704\n",
      "             precision    recall  f1-score   support\n",
      "\n",
      "          0       0.80      0.01      0.02      1170\n",
      "          1       0.88      1.00      0.94      8830\n",
      "\n",
      "avg / total       0.87      0.88      0.83     10000\n",
      "\n",
      "\n",
      "1 loop, best of 1: 10.4 s per loop\n"
     ]
    }
   ],
   "source": [
    "%%timeit -n1 -r1\n",
    "\n",
    "# Set the parameters by cross-validation\n",
    "tuned_parameters = [{'n_estimators': [50,100], \n",
    "                     'max_depth': [3, 4]\n",
    "                    }]\n",
    "\n",
    "scores = ['roc_auc']\n",
    "\n",
    "for score in scores:\n",
    "    print(\"# Tuning hyper-parameters for %s\" % score)\n",
    "    print()\n",
    "\n",
    "    clf = GridSearchCV(RandomForestClassifier(n_jobs=-1), \n",
    "                       tuned_parameters, cv=5,\n",
    "                       scoring='%s' % score)\n",
    "    clf.fit(train_1, label)\n",
    "\n",
    "    print(\"Best parameters set found on development set:\")\n",
    "    print()\n",
    "    print(clf.best_params_)\n",
    "    print()\n",
    "    print(\"Grid scores on development set:\")\n",
    "    print()\n",
    "    means = clf.cv_results_['mean_test_score']\n",
    "    stds = clf.cv_results_['std_test_score']\n",
    "    for mean, std, params in zip(means, stds, clf.cv_results_['params']):\n",
    "        print(\"%0.3f (+/-%0.03f) for %r\"\n",
    "              % (mean, std * 2, params))\n",
    "    print()\n",
    "\n",
    "    print(\"Detailed classification report:\")\n",
    "    print()\n",
    "    print(\"The model is trained on the full development set.\")\n",
    "    print(\"The scores are computed on the full evaluation set.\")\n",
    "    print()\n",
    "    y_true, y_pred = test_updated.iloc[:,51],  clf.predict(test_updated.iloc[:,:51])\n",
    "    \n",
    "    false_positive_rate, true_positive_rate, thresholds = roc_curve(y_true, y_pred)\n",
    "    roc_auc = auc(false_positive_rate, true_positive_rate)\n",
    "    print(\"AUC:\", roc_auc)\n",
    "    \n",
    "    print(classification_report(y_true, y_pred))\n",
    "    print()\n"
   ]
  },
  {
   "cell_type": "markdown",
   "metadata": {},
   "source": [
    "**Exercise**\n",
    "\n",
    "- For `max_depth` include - 6, 10\n",
    "- Add `min_samples_split`, `min_samples_leaf` to the grid search\n",
    "- In addition to `roc_auc`, add `precision` and `recall` "
   ]
  },
  {
   "cell_type": "code",
   "execution_count": null,
   "metadata": {
    "collapsed": true
   },
   "outputs": [],
   "source": []
  }
 ],
 "metadata": {
  "anaconda-cloud": {},
  "kernelspec": {
   "display_name": "Python [conda root]",
   "language": "python",
   "name": "conda-root-py"
  },
  "language_info": {
   "codemirror_mode": {
    "name": "ipython",
    "version": 3
   },
   "file_extension": ".py",
   "mimetype": "text/x-python",
   "name": "python",
   "nbconvert_exporter": "python",
   "pygments_lexer": "ipython3",
   "version": "3.5.2"
  }
 },
 "nbformat": 4,
 "nbformat_minor": 1
}
